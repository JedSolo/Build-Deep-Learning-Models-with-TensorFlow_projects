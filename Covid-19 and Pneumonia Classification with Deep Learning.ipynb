{
 "cells": [
  {
   "cell_type": "markdown",
   "id": "2faf9609",
   "metadata": {},
   "source": [
    "### Importing the necessary libraries"
   ]
  },
  {
   "cell_type": "code",
   "execution_count": 12,
   "id": "ed0c9611",
   "metadata": {},
   "outputs": [],
   "source": [
    "import tensorflow as tf\n",
    "from tensorflow import keras\n",
    "from tensorflow.keras.models import Sequential\n",
    "from tensorflow.keras.preprocessing.image import ImageDataGenerator\n",
    "\n",
    "from sklearn.metrics import classification_report\n",
    "from sklearn.metrics import confusion_matrix\n",
    "\n",
    "from tensorflow.keras.callbacks import EarlyStopping\n",
    "from tensorflow.keras import layers\n",
    "\n",
    "import matplotlib.pyplot as plt\n",
    "import numpy"
   ]
  },
  {
   "cell_type": "markdown",
   "id": "0691b6d1",
   "metadata": {},
   "source": [
    "### Loading Image Data:"
   ]
  },
  {
   "cell_type": "code",
   "execution_count": 13,
   "id": "10b7735b",
   "metadata": {},
   "outputs": [
    {
     "name": "stdout",
     "output_type": "stream",
     "text": [
      "Found 251 images belonging to 3 classes.\n",
      "Found 251 images belonging to 3 classes.\n"
     ]
    }
   ],
   "source": [
    "# Creating an iterable object for your train set:\n",
    "training_data_generator = ImageDataGenerator(rescale = 1.0/255.0, zoom_range=0.1, rotation_range=25, width_shift_range=0.05, height_shift_range=0.05)\n",
    "\n",
    "DIRECTORY = \"Covid19-dataset/train\"\n",
    "CLASS_MODE = \"categorical\"\n",
    "COLOR_MODE = \"grayscale\"\n",
    "TARGET_SIZE = (256,256)\n",
    "BATCH_SIZE = 32\n",
    "\n",
    "training_iterator = training_data_generator.flow_from_directory(DIRECTORY,class_mode=CLASS_MODE,color_mode=COLOR_MODE,target_size=TARGET_SIZE,batch_size=BATCH_SIZE)\n",
    "\n",
    "# Creating an iterable object for your train set:\n",
    "validation_data_generator = ImageDataGenerator()\n",
    "validation_iterator = validation_data_generator.flow_from_directory(DIRECTORY,class_mode=CLASS_MODE,color_mode=COLOR_MODE,target_size=TARGET_SIZE,batch_size=BATCH_SIZE)\n",
    "\n",
    "#print(training_data_generator.__dict__)"
   ]
  },
  {
   "cell_type": "markdown",
   "id": "ae626d20",
   "metadata": {},
   "source": [
    "### Building the Model:"
   ]
  },
  {
   "cell_type": "code",
   "execution_count": 22,
   "id": "6abfe751",
   "metadata": {},
   "outputs": [],
   "source": [
    "model = Sequential()\n",
    "\n",
    "# Adding input layer:\n",
    "model.add(tf.keras.Input(shape=(256, 256, 1)))\n",
    "\n",
    "# Adding convolutional hidden layers with relu functions\n",
    "# Adding maxpooling layers as well:\n",
    "model.add(layers.Conv2D(5, 5, strides=3, activation=\"relu\")) \n",
    "model.add(layers.MaxPooling2D(pool_size=(2, 2), strides=(2,2)))\n",
    "model.add(layers.Dropout(0.1))\n",
    "model.add(layers.Conv2D(3, 3, strides=1, activation=\"relu\"))\n",
    "model.add(layers.MaxPooling2D(pool_size=(2, 2), strides=(2,2)))\n",
    "model.add(layers.Dropout(0.2))\n",
    "\n",
    "model.add(layers.Flatten())\n",
    "\n",
    "# Adding output layer:\n",
    "model.add(layers.Dense(3,activation=\"softmax\"))"
   ]
  },
  {
   "cell_type": "markdown",
   "id": "aea35a40",
   "metadata": {},
   "source": [
    "### Compiling the model"
   ]
  },
  {
   "cell_type": "code",
   "execution_count": 27,
   "id": "58d1c684",
   "metadata": {},
   "outputs": [
    {
     "name": "stdout",
     "output_type": "stream",
     "text": [
      "Model: \"sequential_5\"\n",
      "_________________________________________________________________\n",
      "Layer (type)                 Output Shape              Param #   \n",
      "=================================================================\n",
      "conv2d_8 (Conv2D)            (None, 84, 84, 5)         130       \n",
      "_________________________________________________________________\n",
      "max_pooling2d_8 (MaxPooling2 (None, 42, 42, 5)         0         \n",
      "_________________________________________________________________\n",
      "dropout_6 (Dropout)          (None, 42, 42, 5)         0         \n",
      "_________________________________________________________________\n",
      "conv2d_9 (Conv2D)            (None, 40, 40, 3)         138       \n",
      "_________________________________________________________________\n",
      "max_pooling2d_9 (MaxPooling2 (None, 20, 20, 3)         0         \n",
      "_________________________________________________________________\n",
      "dropout_7 (Dropout)          (None, 20, 20, 3)         0         \n",
      "_________________________________________________________________\n",
      "flatten_4 (Flatten)          (None, 1200)              0         \n",
      "_________________________________________________________________\n",
      "dense_4 (Dense)              (None, 3)                 3603      \n",
      "=================================================================\n",
      "Total params: 3,871\n",
      "Trainable params: 3,871\n",
      "Non-trainable params: 0\n",
      "_________________________________________________________________\n",
      "None\n"
     ]
    }
   ],
   "source": [
    "model.compile(optimizer=tf.keras.optimizers.Adam(learning_rate=.001), \n",
    "              loss=tf.keras.losses.CategoricalCrossentropy(), \n",
    "              metrics=[tf.keras.metrics.CategoricalAccuracy(),tf.keras.metrics.AUC()],)\n",
    "print(model.summary())\n",
    "\n",
    "# early stopping implementation\n",
    "es = EarlyStopping(monitor='val_auc', mode='min', verbose=1, patience=20)"
   ]
  },
  {
   "cell_type": "markdown",
   "id": "fb28057e",
   "metadata": {},
   "source": [
    "### Evaluating your model"
   ]
  },
  {
   "cell_type": "code",
   "execution_count": 28,
   "id": "2da79dd8",
   "metadata": {},
   "outputs": [
    {
     "name": "stdout",
     "output_type": "stream",
     "text": [
      "Epoch 1/5\n",
      "8/7 [==============================] - ETA: 0s - loss: 0.4973 - categorical_accuracy: 0.7888 - auc_5: 0.9299WARNING:tensorflow:Early stopping conditioned on metric `val_auc` which is not available. Available metrics are: loss,categorical_accuracy,auc_5,val_loss,val_categorical_accuracy,val_auc_5\n",
      "8/7 [==============================] - 4s 489ms/step - loss: 0.4973 - categorical_accuracy: 0.7888 - auc_5: 0.9299 - val_loss: 23.4129 - val_categorical_accuracy: 0.9084 - val_auc_5: 0.9337\n",
      "Epoch 2/5\n",
      "8/7 [==============================] - ETA: 0s - loss: 0.5024 - categorical_accuracy: 0.8127 - auc_5: 0.9295WARNING:tensorflow:Early stopping conditioned on metric `val_auc` which is not available. Available metrics are: loss,categorical_accuracy,auc_5,val_loss,val_categorical_accuracy,val_auc_5\n",
      "8/7 [==============================] - 3s 437ms/step - loss: 0.5024 - categorical_accuracy: 0.8127 - auc_5: 0.9295 - val_loss: 23.5929 - val_categorical_accuracy: 0.9163 - val_auc_5: 0.9373\n",
      "Epoch 3/5\n",
      "8/7 [==============================] - ETA: 0s - loss: 0.4279 - categorical_accuracy: 0.8327 - auc_5: 0.9489WARNING:tensorflow:Early stopping conditioned on metric `val_auc` which is not available. Available metrics are: loss,categorical_accuracy,auc_5,val_loss,val_categorical_accuracy,val_auc_5\n",
      "8/7 [==============================] - 4s 448ms/step - loss: 0.4279 - categorical_accuracy: 0.8327 - auc_5: 0.9489 - val_loss: 28.1454 - val_categorical_accuracy: 0.8845 - val_auc_5: 0.9161\n",
      "Epoch 4/5\n",
      "8/7 [==============================] - ETA: 0s - loss: 0.4498 - categorical_accuracy: 0.8406 - auc_5: 0.9440WARNING:tensorflow:Early stopping conditioned on metric `val_auc` which is not available. Available metrics are: loss,categorical_accuracy,auc_5,val_loss,val_categorical_accuracy,val_auc_5\n",
      "8/7 [==============================] - 4s 441ms/step - loss: 0.4498 - categorical_accuracy: 0.8406 - auc_5: 0.9440 - val_loss: 25.6009 - val_categorical_accuracy: 0.9163 - val_auc_5: 0.9373\n",
      "Epoch 5/5\n",
      "8/7 [==============================] - ETA: 0s - loss: 0.4410 - categorical_accuracy: 0.8247 - auc_5: 0.9449WARNING:tensorflow:Early stopping conditioned on metric `val_auc` which is not available. Available metrics are: loss,categorical_accuracy,auc_5,val_loss,val_categorical_accuracy,val_auc_5\n",
      "8/7 [==============================] - 4s 486ms/step - loss: 0.4410 - categorical_accuracy: 0.8247 - auc_5: 0.9449 - val_loss: 27.8746 - val_categorical_accuracy: 0.8924 - val_auc_5: 0.9221\n"
     ]
    }
   ],
   "source": [
    "history = model.fit(training_iterator,steps_per_epoch=training_iterator.samples/BATCH_SIZE, epochs=5,\n",
    "            validation_data=validation_iterator,\n",
    "            validation_steps=validation_iterator.samples/BATCH_SIZE, callbacks=[es])"
   ]
  },
  {
   "cell_type": "markdown",
   "id": "f4f494e1",
   "metadata": {},
   "source": [
    "### Visualizing the accuracy of the model"
   ]
  },
  {
   "cell_type": "code",
   "execution_count": 29,
   "id": "c04ae45f",
   "metadata": {},
   "outputs": [
    {
     "data": {
      "image/png": "[encoded data removed]",
      "text/plain": [
       "<Figure size 432x288 with 2 Axes>"
      ]
     },
     "metadata": {
      "needs_background": "light"
     },
     "output_type": "display_data"
    }
   ],
   "source": [
    "# plotting categorical and validation accuracy over epochs\n",
    "fig = plt.figure()\n",
    "ax1 = fig.add_subplot(2, 1, 1)\n",
    "ax1.plot(history.history['categorical_accuracy'])\n",
    "ax1.plot(history.history['val_categorical_accuracy'])\n",
    "ax1.set_title('model accuracy')\n",
    "ax1.set_xlabel('epoch')\n",
    "ax1.set_ylabel('accuracy')\n",
    "ax1.legend(['train', 'validation'], loc='upper left')\n",
    "\n",
    "ax2 = fig.add_subplot(2, 1, 2)\n",
    "ax2.plot(history.history['auc_5'])\n",
    "ax2.plot(history.history['val_auc_5'])\n",
    "ax2.set_title('model auc')\n",
    "ax2.set_xlabel('epoch')\n",
    "ax2.set_ylabel('auc')\n",
    "ax2.legend(['train', 'validation'], loc='upper left')\n",
    "\n",
    "plt.show()"
   ]
  },
  {
   "cell_type": "code",
   "execution_count": 30,
   "id": "479a93b0",
   "metadata": {},
   "outputs": [
    {
     "name": "stdout",
     "output_type": "stream",
     "text": [
      "              precision    recall  f1-score   support\n",
      "\n",
      "       Covid       0.44      0.41      0.43       111\n",
      "      Normal       0.31      0.36      0.33        70\n",
      "   Pneumonia       0.31      0.30      0.31        70\n",
      "\n",
      "    accuracy                           0.37       251\n",
      "   macro avg       0.36      0.36      0.36       251\n",
      "weighted avg       0.37      0.37      0.37       251\n",
      "\n",
      "[[46 37 28]\n",
      " [27 25 18]\n",
      " [31 18 21]]\n"
     ]
    }
   ],
   "source": [
    "test_steps_per_epoch = numpy.math.ceil(validation_iterator.samples / validation_iterator.batch_size)\n",
    "predictions = model.predict(validation_iterator, steps=test_steps_per_epoch)\n",
    "test_steps_per_epoch = numpy.math.ceil(validation_iterator.samples / validation_iterator.batch_size)\n",
    "predicted_classes = numpy.argmax(predictions, axis=1)\n",
    "true_classes = validation_iterator.classes\n",
    "class_labels = list(validation_iterator.class_indices.keys())\n",
    "report = classification_report(true_classes, predicted_classes, target_names=class_labels)\n",
    "print(report)   \n",
    "\n",
    "cm=confusion_matrix(true_classes,predicted_classes)\n",
    "print(cm)"
   ]
  },
  {
   "cell_type": "code",
   "execution_count": null,
   "id": "d75e6bf8",
   "metadata": {},
   "outputs": [],
   "source": []
  }
 ],
 "metadata": {
  "kernelspec": {
   "display_name": "Python 3",
   "language": "python",
   "name": "python3"
  },
  "language_info": {
   "codemirror_mode": {
    "name": "ipython",
    "version": 3
   },
   "file_extension": ".py",
   "mimetype": "text/x-python",
   "name": "python",
   "nbconvert_exporter": "python",
   "pygments_lexer": "ipython3",
   "version": "3.8.8"
  }
 },
 "nbformat": 4,
 "nbformat_minor": 5
}
